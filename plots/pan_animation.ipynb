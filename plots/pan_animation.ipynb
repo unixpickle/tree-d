{
 "cells": [
  {
   "cell_type": "code",
   "execution_count": null,
   "metadata": {},
   "outputs": [],
   "source": [
    "from PIL import Image\n",
    "import numpy as np"
   ]
  },
  {
   "cell_type": "code",
   "execution_count": null,
   "metadata": {},
   "outputs": [],
   "source": [
    "def read_frames(filename):\n",
    "    img = Image.open(filename)\n",
    "    res = []\n",
    "    for i in range(img.n_frames):\n",
    "        img.seek(i)\n",
    "        res.append(np.array(img.convert('RGB')))\n",
    "    return np.array(res)\n",
    "\n",
    "def write_frames(path, frames):\n",
    "    imgs = [Image.fromarray(frame) for frame in frames]\n",
    "    imgs[0].save(path, save_all=True, append_images=imgs[1:], duration=100, loop=0)"
   ]
  },
  {
   "cell_type": "code",
   "execution_count": null,
   "metadata": {},
   "outputs": [],
   "source": [
    "left_frames = read_frames('normals.gif')\n",
    "right_frames = read_frames('no_normals.gif')\n",
    "\n",
    "all_frames = list(zip(left_frames, right_frames))\n",
    "fracs = (\n",
    "    ([0.5] * (len(all_frames) // 1))\n",
    "    + list(np.linspace(0.5, 0.0, num=len(all_frames) // 4))\n",
    "    + [0.0] * (len(all_frames)//2)\n",
    "    + list(np.linspace(0.0, 1.0, num=len(all_frames) // 2))\n",
    "    + [1.0] * (len(all_frames)//2)\n",
    "    + list(np.linspace(1.0, 0.5, num=len(all_frames) // 4))\n",
    ")\n",
    "\n",
    "frames = []\n",
    "for frac, (left, right) in zip(fracs, all_frames*10):\n",
    "    res = left.copy()\n",
    "    x = int(res.shape[1] * frac)\n",
    "    res[:, x:] = right[:, x:]\n",
    "    res[:, max(x-3, 0):x+3, :] = [255, 255, 255]\n",
    "    frames.append(res)\n",
    "\n",
    "write_frames('animation.gif', frames)"
   ]
  }
 ],
 "metadata": {
  "kernelspec": {
   "display_name": "Python 3",
   "language": "python",
   "name": "python3"
  },
  "language_info": {
   "codemirror_mode": {
    "name": "ipython",
    "version": 3
   },
   "file_extension": ".py",
   "mimetype": "text/x-python",
   "name": "python",
   "nbconvert_exporter": "python",
   "pygments_lexer": "ipython3",
   "version": "3.10.6"
  },
  "orig_nbformat": 4
 },
 "nbformat": 4,
 "nbformat_minor": 2
}
