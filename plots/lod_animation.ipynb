{
 "cells": [
  {
   "cell_type": "code",
   "execution_count": null,
   "metadata": {},
   "outputs": [],
   "source": [
    "from PIL import Image, ImageDraw, ImageFont\n",
    "import numpy as np"
   ]
  },
  {
   "cell_type": "code",
   "execution_count": null,
   "metadata": {},
   "outputs": [],
   "source": [
    "def read_frames(filename):\n",
    "    img = Image.open(filename)\n",
    "    res = []\n",
    "    for i in range(img.n_frames):\n",
    "        img.seek(i)\n",
    "        res.append(np.array(img.convert('RGB')))\n",
    "    return np.array(res)\n",
    "\n",
    "def write_frames(path, frames):\n",
    "    imgs = [Image.fromarray(frame) for frame in frames]\n",
    "    imgs[0].save(path, save_all=True, append_images=imgs[1:], duration=100, loop=0)"
   ]
  },
  {
   "cell_type": "code",
   "execution_count": null,
   "metadata": {},
   "outputs": [],
   "source": [
    "# lods = {\n",
    "#     256: 'source/anim/lod_256.bin_flat.gif',\n",
    "#     512: 'source/anim/lod_512.bin_flat.gif',\n",
    "#     1023: 'source/anim/lod_1023.bin_flat.gif',\n",
    "#     2047: 'source/anim/lod_2047.bin_flat.gif',\n",
    "#     4096: 'source/anim/lod_4096.bin_flat.gif',\n",
    "#     39101: 'source/anim/full.bin_flat.gif',\n",
    "# }\n",
    "lods = {\n",
    "    255: 'source/anim_corgi/lod_255.bin_flat.gif',\n",
    "    511: 'source/anim_corgi/lod_511.bin_flat.gif',\n",
    "    1024: 'source/anim_corgi/lod_1024.bin_flat.gif',\n",
    "    2029: 'source/anim_corgi/full.bin_flat.gif',\n",
    "}\n",
    "frames = [read_frames(v) for v in lods.values()]\n",
    "num_frames = len(frames[0])\n",
    "\n",
    "results = []\n",
    "change_frames = 20\n",
    "total_frames = change_frames * len(lods)\n",
    "total_frames += (num_frames - (total_frames % num_frames)) % num_frames\n",
    "for i in range(total_frames):\n",
    "    lod_idx = (i // change_frames) % len(lods)\n",
    "    local_frame_idx = i % num_frames\n",
    "    img_arr = frames[lod_idx][local_frame_idx]\n",
    "    img_arr[10:] = img_arr[:-10]\n",
    "    img = Image.fromarray(img_arr)\n",
    "    font = ImageFont.truetype(\"/usr/share/fonts/truetype/freefont/FreeSansBold.ttf\", 30)\n",
    "    draw = ImageDraw.Draw(img)\n",
    "    start = local_frame_idx < 4\n",
    "    draw.text(\n",
    "        (55, 30),\n",
    "        f\"Leaves: {list(lods.keys())[lod_idx]}\",\n",
    "        fill=('green' if start else 'white'),\n",
    "        font=font,\n",
    "    )\n",
    "    if start:\n",
    "        draw.rectangle((50, 80, 300-50, 300-50), outline='green', width=2)\n",
    "    results.append(np.array(img))\n",
    "\n",
    "write_frames('lod_animation.gif', results)"
   ]
  }
 ],
 "metadata": {
  "kernelspec": {
   "display_name": "Python 3",
   "language": "python",
   "name": "python3"
  },
  "language_info": {
   "codemirror_mode": {
    "name": "ipython",
    "version": 3
   },
   "file_extension": ".py",
   "mimetype": "text/x-python",
   "name": "python",
   "nbconvert_exporter": "python",
   "pygments_lexer": "ipython3",
   "version": "3.10.6"
  },
  "orig_nbformat": 4
 },
 "nbformat": 4,
 "nbformat_minor": 2
}
